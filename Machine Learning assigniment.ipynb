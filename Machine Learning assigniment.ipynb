{
 "cells": [
  {
   "cell_type": "code",
   "execution_count": 65,
   "metadata": {},
   "outputs": [],
   "source": [
    "#importing libraries\n",
    "import numpy as np\n",
    "import pandas as pd\n",
    "import matplotlib.pyplot as plt\n",
    "import seaborn as sns"
   ]
  },
  {
   "cell_type": "code",
   "execution_count": 56,
   "metadata": {},
   "outputs": [
    {
     "data": {
      "text/html": [
       "<div>\n",
       "<style scoped>\n",
       "    .dataframe tbody tr th:only-of-type {\n",
       "        vertical-align: middle;\n",
       "    }\n",
       "\n",
       "    .dataframe tbody tr th {\n",
       "        vertical-align: top;\n",
       "    }\n",
       "\n",
       "    .dataframe thead th {\n",
       "        text-align: right;\n",
       "    }\n",
       "</style>\n",
       "<table border=\"1\" class=\"dataframe\">\n",
       "  <thead>\n",
       "    <tr style=\"text-align: right;\">\n",
       "      <th></th>\n",
       "      <th>continue_drop</th>\n",
       "      <th>student_id</th>\n",
       "      <th>gender</th>\n",
       "      <th>caste</th>\n",
       "      <th>mathematics_marks</th>\n",
       "      <th>english_marks</th>\n",
       "      <th>science_marks</th>\n",
       "      <th>science_teacher</th>\n",
       "      <th>languages_teacher</th>\n",
       "      <th>guardian</th>\n",
       "      <th>internet</th>\n",
       "      <th>school_id</th>\n",
       "      <th>total_students</th>\n",
       "      <th>total_toilets</th>\n",
       "      <th>establishment_year</th>\n",
       "    </tr>\n",
       "  </thead>\n",
       "  <tbody>\n",
       "    <tr>\n",
       "      <th>0</th>\n",
       "      <td>continue</td>\n",
       "      <td>s01746</td>\n",
       "      <td>M</td>\n",
       "      <td>BC</td>\n",
       "      <td>0.666</td>\n",
       "      <td>0.468</td>\n",
       "      <td>0.666</td>\n",
       "      <td>7</td>\n",
       "      <td>6</td>\n",
       "      <td>other</td>\n",
       "      <td>True</td>\n",
       "      <td>305</td>\n",
       "      <td>354</td>\n",
       "      <td>86.0</td>\n",
       "      <td>1986.0</td>\n",
       "    </tr>\n",
       "    <tr>\n",
       "      <th>1</th>\n",
       "      <td>continue</td>\n",
       "      <td>s16986</td>\n",
       "      <td>M</td>\n",
       "      <td>BC</td>\n",
       "      <td>0.172</td>\n",
       "      <td>0.420</td>\n",
       "      <td>0.172</td>\n",
       "      <td>8</td>\n",
       "      <td>10</td>\n",
       "      <td>mother</td>\n",
       "      <td>False</td>\n",
       "      <td>331</td>\n",
       "      <td>516</td>\n",
       "      <td>15.0</td>\n",
       "      <td>1996.0</td>\n",
       "    </tr>\n",
       "    <tr>\n",
       "      <th>2</th>\n",
       "      <td>continue</td>\n",
       "      <td>s00147</td>\n",
       "      <td>F</td>\n",
       "      <td>BC</td>\n",
       "      <td>0.212</td>\n",
       "      <td>0.601</td>\n",
       "      <td>0.212</td>\n",
       "      <td>1</td>\n",
       "      <td>4</td>\n",
       "      <td>mother</td>\n",
       "      <td>False</td>\n",
       "      <td>311</td>\n",
       "      <td>209</td>\n",
       "      <td>14.0</td>\n",
       "      <td>1976.0</td>\n",
       "    </tr>\n",
       "    <tr>\n",
       "      <th>3</th>\n",
       "      <td>continue</td>\n",
       "      <td>s08104</td>\n",
       "      <td>F</td>\n",
       "      <td>ST</td>\n",
       "      <td>0.434</td>\n",
       "      <td>0.611</td>\n",
       "      <td>0.434</td>\n",
       "      <td>2</td>\n",
       "      <td>5</td>\n",
       "      <td>father</td>\n",
       "      <td>True</td>\n",
       "      <td>364</td>\n",
       "      <td>147</td>\n",
       "      <td>28.0</td>\n",
       "      <td>1911.0</td>\n",
       "    </tr>\n",
       "    <tr>\n",
       "      <th>4</th>\n",
       "      <td>continue</td>\n",
       "      <td>s11132</td>\n",
       "      <td>F</td>\n",
       "      <td>SC</td>\n",
       "      <td>0.283</td>\n",
       "      <td>0.478</td>\n",
       "      <td>0.283</td>\n",
       "      <td>1</td>\n",
       "      <td>10</td>\n",
       "      <td>mother</td>\n",
       "      <td>True</td>\n",
       "      <td>394</td>\n",
       "      <td>122</td>\n",
       "      <td>15.0</td>\n",
       "      <td>1889.0</td>\n",
       "    </tr>\n",
       "  </tbody>\n",
       "</table>\n",
       "</div>"
      ],
      "text/plain": [
       "  continue_drop student_id gender caste  mathematics_marks  english_marks  \\\n",
       "0      continue     s01746      M    BC              0.666          0.468   \n",
       "1      continue     s16986      M    BC              0.172          0.420   \n",
       "2      continue     s00147      F    BC              0.212          0.601   \n",
       "3      continue     s08104      F    ST              0.434          0.611   \n",
       "4      continue     s11132      F    SC              0.283          0.478   \n",
       "\n",
       "   science_marks  science_teacher  languages_teacher guardian  internet  \\\n",
       "0          0.666                7                  6    other      True   \n",
       "1          0.172                8                 10   mother     False   \n",
       "2          0.212                1                  4   mother     False   \n",
       "3          0.434                2                  5   father      True   \n",
       "4          0.283                1                 10   mother      True   \n",
       "\n",
       "   school_id  total_students  total_toilets  establishment_year  \n",
       "0        305             354           86.0              1986.0  \n",
       "1        331             516           15.0              1996.0  \n",
       "2        311             209           14.0              1976.0  \n",
       "3        364             147           28.0              1911.0  \n",
       "4        394             122           15.0              1889.0  "
      ]
     },
     "execution_count": 56,
     "metadata": {},
     "output_type": "execute_result"
    }
   ],
   "source": [
    "#Loading data training data.\n",
    "data = pd.read_csv('/home/aniseti/Documents/MachineLearningWorkflow/data/ML-week1-challenge-master/data/train_data_week_1_challenge.csv')\n",
    "data.head()\n"
   ]
  },
  {
   "cell_type": "code",
   "execution_count": 57,
   "metadata": {},
   "outputs": [
    {
     "data": {
      "text/plain": [
       "continue_drop           0\n",
       "student_id              0\n",
       "gender                  0\n",
       "caste                   0\n",
       "mathematics_marks       0\n",
       "english_marks           0\n",
       "science_marks           0\n",
       "science_teacher         0\n",
       "languages_teacher       0\n",
       "guardian                0\n",
       "internet                0\n",
       "school_id               0\n",
       "total_students          0\n",
       "total_toilets         312\n",
       "establishment_year    312\n",
       "dtype: int64"
      ]
     },
     "execution_count": 57,
     "metadata": {},
     "output_type": "execute_result"
    }
   ],
   "source": [
    "# checking for null values in the dataset\n",
    "data.isnull().sum()"
   ]
  },
  {
   "cell_type": "code",
   "execution_count": 58,
   "metadata": {},
   "outputs": [
    {
     "data": {
      "text/plain": [
       "continue_drop         0\n",
       "student_id            0\n",
       "gender                0\n",
       "caste                 0\n",
       "mathematics_marks     0\n",
       "english_marks         0\n",
       "science_marks         0\n",
       "science_teacher       0\n",
       "languages_teacher     0\n",
       "guardian              0\n",
       "internet              0\n",
       "school_id             0\n",
       "total_students        0\n",
       "total_toilets         0\n",
       "establishment_year    0\n",
       "dtype: int64"
      ]
     },
     "execution_count": 58,
     "metadata": {},
     "output_type": "execute_result"
    }
   ],
   "source": [
    "# filling null values in the dataset\n",
    "data[\"total_toilets\"].fillna(data[\"total_toilets\"].mean(), inplace = True)\n",
    "data[\"establishment_year\"].fillna(data[\"establishment_year\"].mean(), inplace = True)\n",
    "data.isnull().sum()\n"
   ]
  },
  {
   "cell_type": "code",
   "execution_count": 59,
   "metadata": {},
   "outputs": [
    {
     "data": {
      "text/html": [
       "<div>\n",
       "<style scoped>\n",
       "    .dataframe tbody tr th:only-of-type {\n",
       "        vertical-align: middle;\n",
       "    }\n",
       "\n",
       "    .dataframe tbody tr th {\n",
       "        vertical-align: top;\n",
       "    }\n",
       "\n",
       "    .dataframe thead th {\n",
       "        text-align: right;\n",
       "    }\n",
       "</style>\n",
       "<table border=\"1\" class=\"dataframe\">\n",
       "  <thead>\n",
       "    <tr style=\"text-align: right;\">\n",
       "      <th></th>\n",
       "      <th>continue_drop</th>\n",
       "      <th>student_id</th>\n",
       "      <th>gender</th>\n",
       "      <th>caste</th>\n",
       "      <th>mathematics_marks</th>\n",
       "      <th>english_marks</th>\n",
       "      <th>science_marks</th>\n",
       "      <th>science_teacher</th>\n",
       "      <th>languages_teacher</th>\n",
       "      <th>guardian</th>\n",
       "      <th>internet</th>\n",
       "      <th>school_id</th>\n",
       "      <th>total_students</th>\n",
       "      <th>total_toilets</th>\n",
       "      <th>establishment_year</th>\n",
       "    </tr>\n",
       "  </thead>\n",
       "  <tbody>\n",
       "    <tr>\n",
       "      <th>0</th>\n",
       "      <td>1</td>\n",
       "      <td>s01746</td>\n",
       "      <td>1</td>\n",
       "      <td>0</td>\n",
       "      <td>0.666</td>\n",
       "      <td>0.468</td>\n",
       "      <td>0.666</td>\n",
       "      <td>7</td>\n",
       "      <td>6</td>\n",
       "      <td>2</td>\n",
       "      <td>1</td>\n",
       "      <td>305</td>\n",
       "      <td>354</td>\n",
       "      <td>86.0</td>\n",
       "      <td>1986.0</td>\n",
       "    </tr>\n",
       "    <tr>\n",
       "      <th>1</th>\n",
       "      <td>1</td>\n",
       "      <td>s16986</td>\n",
       "      <td>1</td>\n",
       "      <td>0</td>\n",
       "      <td>0.172</td>\n",
       "      <td>0.420</td>\n",
       "      <td>0.172</td>\n",
       "      <td>8</td>\n",
       "      <td>10</td>\n",
       "      <td>0</td>\n",
       "      <td>0</td>\n",
       "      <td>331</td>\n",
       "      <td>516</td>\n",
       "      <td>15.0</td>\n",
       "      <td>1996.0</td>\n",
       "    </tr>\n",
       "    <tr>\n",
       "      <th>2</th>\n",
       "      <td>1</td>\n",
       "      <td>s00147</td>\n",
       "      <td>0</td>\n",
       "      <td>0</td>\n",
       "      <td>0.212</td>\n",
       "      <td>0.601</td>\n",
       "      <td>0.212</td>\n",
       "      <td>1</td>\n",
       "      <td>4</td>\n",
       "      <td>0</td>\n",
       "      <td>0</td>\n",
       "      <td>311</td>\n",
       "      <td>209</td>\n",
       "      <td>14.0</td>\n",
       "      <td>1976.0</td>\n",
       "    </tr>\n",
       "    <tr>\n",
       "      <th>3</th>\n",
       "      <td>1</td>\n",
       "      <td>s08104</td>\n",
       "      <td>0</td>\n",
       "      <td>3</td>\n",
       "      <td>0.434</td>\n",
       "      <td>0.611</td>\n",
       "      <td>0.434</td>\n",
       "      <td>2</td>\n",
       "      <td>5</td>\n",
       "      <td>1</td>\n",
       "      <td>1</td>\n",
       "      <td>364</td>\n",
       "      <td>147</td>\n",
       "      <td>28.0</td>\n",
       "      <td>1911.0</td>\n",
       "    </tr>\n",
       "    <tr>\n",
       "      <th>4</th>\n",
       "      <td>1</td>\n",
       "      <td>s11132</td>\n",
       "      <td>0</td>\n",
       "      <td>1</td>\n",
       "      <td>0.283</td>\n",
       "      <td>0.478</td>\n",
       "      <td>0.283</td>\n",
       "      <td>1</td>\n",
       "      <td>10</td>\n",
       "      <td>0</td>\n",
       "      <td>1</td>\n",
       "      <td>394</td>\n",
       "      <td>122</td>\n",
       "      <td>15.0</td>\n",
       "      <td>1889.0</td>\n",
       "    </tr>\n",
       "  </tbody>\n",
       "</table>\n",
       "</div>"
      ],
      "text/plain": [
       "   continue_drop student_id  gender  caste  mathematics_marks  english_marks  \\\n",
       "0              1     s01746       1      0              0.666          0.468   \n",
       "1              1     s16986       1      0              0.172          0.420   \n",
       "2              1     s00147       0      0              0.212          0.601   \n",
       "3              1     s08104       0      3              0.434          0.611   \n",
       "4              1     s11132       0      1              0.283          0.478   \n",
       "\n",
       "   science_marks  science_teacher  languages_teacher  guardian  internet  \\\n",
       "0          0.666                7                  6         2         1   \n",
       "1          0.172                8                 10         0         0   \n",
       "2          0.212                1                  4         0         0   \n",
       "3          0.434                2                  5         1         1   \n",
       "4          0.283                1                 10         0         1   \n",
       "\n",
       "   school_id  total_students  total_toilets  establishment_year  \n",
       "0        305             354           86.0              1986.0  \n",
       "1        331             516           15.0              1996.0  \n",
       "2        311             209           14.0              1976.0  \n",
       "3        364             147           28.0              1911.0  \n",
       "4        394             122           15.0              1889.0  "
      ]
     },
     "execution_count": 59,
     "metadata": {},
     "output_type": "execute_result"
    }
   ],
   "source": [
    "# encoding categorical values\n",
    "cleanup_nums = {\"continue_drop\":{\"continue\":1,\"drop\":0},\n",
    "                \"gender\":{\"F\":0,\"M\":1},\n",
    "                \"caste\":{\"BC\":0,\"SC\":1,\"OC\":2,\"ST\":3},\n",
    "                \"guardian\":{\"mother\":0,\"father\":1,\"other\":2,\"mixed\":3}\n",
    "               }\n",
    "\n",
    "data.replace(cleanup_nums, inplace=True)\n",
    "\n",
    "data.internet = data.internet.astype(int)\n",
    "data.head()"
   ]
  },
  {
   "cell_type": "code",
   "execution_count": 7,
   "metadata": {},
   "outputs": [
    {
     "data": {
      "text/html": [
       "<div>\n",
       "<style scoped>\n",
       "    .dataframe tbody tr th:only-of-type {\n",
       "        vertical-align: middle;\n",
       "    }\n",
       "\n",
       "    .dataframe tbody tr th {\n",
       "        vertical-align: top;\n",
       "    }\n",
       "\n",
       "    .dataframe thead th {\n",
       "        text-align: right;\n",
       "    }\n",
       "</style>\n",
       "<table border=\"1\" class=\"dataframe\">\n",
       "  <thead>\n",
       "    <tr style=\"text-align: right;\">\n",
       "      <th></th>\n",
       "      <th>continue_drop</th>\n",
       "      <th>gender</th>\n",
       "      <th>caste</th>\n",
       "      <th>mathematics_marks</th>\n",
       "      <th>english_marks</th>\n",
       "      <th>science_marks</th>\n",
       "      <th>science_teacher</th>\n",
       "      <th>languages_teacher</th>\n",
       "      <th>guardian</th>\n",
       "      <th>internet</th>\n",
       "      <th>total_students</th>\n",
       "      <th>total_toilets</th>\n",
       "    </tr>\n",
       "  </thead>\n",
       "  <tbody>\n",
       "    <tr>\n",
       "      <th>0</th>\n",
       "      <td>1</td>\n",
       "      <td>1</td>\n",
       "      <td>0</td>\n",
       "      <td>0.666</td>\n",
       "      <td>0.468</td>\n",
       "      <td>0.666</td>\n",
       "      <td>7</td>\n",
       "      <td>6</td>\n",
       "      <td>2</td>\n",
       "      <td>1</td>\n",
       "      <td>354</td>\n",
       "      <td>86.0</td>\n",
       "    </tr>\n",
       "    <tr>\n",
       "      <th>1</th>\n",
       "      <td>1</td>\n",
       "      <td>1</td>\n",
       "      <td>0</td>\n",
       "      <td>0.172</td>\n",
       "      <td>0.420</td>\n",
       "      <td>0.172</td>\n",
       "      <td>8</td>\n",
       "      <td>10</td>\n",
       "      <td>0</td>\n",
       "      <td>0</td>\n",
       "      <td>516</td>\n",
       "      <td>15.0</td>\n",
       "    </tr>\n",
       "    <tr>\n",
       "      <th>2</th>\n",
       "      <td>1</td>\n",
       "      <td>0</td>\n",
       "      <td>0</td>\n",
       "      <td>0.212</td>\n",
       "      <td>0.601</td>\n",
       "      <td>0.212</td>\n",
       "      <td>1</td>\n",
       "      <td>4</td>\n",
       "      <td>0</td>\n",
       "      <td>0</td>\n",
       "      <td>209</td>\n",
       "      <td>14.0</td>\n",
       "    </tr>\n",
       "    <tr>\n",
       "      <th>3</th>\n",
       "      <td>1</td>\n",
       "      <td>0</td>\n",
       "      <td>3</td>\n",
       "      <td>0.434</td>\n",
       "      <td>0.611</td>\n",
       "      <td>0.434</td>\n",
       "      <td>2</td>\n",
       "      <td>5</td>\n",
       "      <td>1</td>\n",
       "      <td>1</td>\n",
       "      <td>147</td>\n",
       "      <td>28.0</td>\n",
       "    </tr>\n",
       "    <tr>\n",
       "      <th>4</th>\n",
       "      <td>1</td>\n",
       "      <td>0</td>\n",
       "      <td>1</td>\n",
       "      <td>0.283</td>\n",
       "      <td>0.478</td>\n",
       "      <td>0.283</td>\n",
       "      <td>1</td>\n",
       "      <td>10</td>\n",
       "      <td>0</td>\n",
       "      <td>1</td>\n",
       "      <td>122</td>\n",
       "      <td>15.0</td>\n",
       "    </tr>\n",
       "  </tbody>\n",
       "</table>\n",
       "</div>"
      ],
      "text/plain": [
       "   continue_drop  gender  caste  mathematics_marks  english_marks  \\\n",
       "0              1       1      0              0.666          0.468   \n",
       "1              1       1      0              0.172          0.420   \n",
       "2              1       0      0              0.212          0.601   \n",
       "3              1       0      3              0.434          0.611   \n",
       "4              1       0      1              0.283          0.478   \n",
       "\n",
       "   science_marks  science_teacher  languages_teacher  guardian  internet  \\\n",
       "0          0.666                7                  6         2         1   \n",
       "1          0.172                8                 10         0         0   \n",
       "2          0.212                1                  4         0         0   \n",
       "3          0.434                2                  5         1         1   \n",
       "4          0.283                1                 10         0         1   \n",
       "\n",
       "   total_students  total_toilets  \n",
       "0             354           86.0  \n",
       "1             516           15.0  \n",
       "2             209           14.0  \n",
       "3             147           28.0  \n",
       "4             122           15.0  "
      ]
     },
     "execution_count": 7,
     "metadata": {},
     "output_type": "execute_result"
    }
   ],
   "source": [
    "# dropping unused columns\n",
    "data.drop('student_id', axis=1, inplace=True)\n",
    "data.drop('school_id', axis=1, inplace=True)\n",
    "data.drop('establishment_year', axis=1, inplace=True)\n",
    "data.head()"
   ]
  },
  {
   "cell_type": "code",
   "execution_count": 63,
   "metadata": {},
   "outputs": [
    {
     "data": {
      "image/png": "[encoded data removed]",
      "text/plain": [
       "<Figure size 1152x720 with 16 Axes>"
      ]
     },
     "metadata": {
      "needs_background": "light"
     },
     "output_type": "display_data"
    }
   ],
   "source": [
    "data.hist(figsize=(16,10));"
   ]
  },
  {
   "cell_type": "code",
   "execution_count": 66,
   "metadata": {},
   "outputs": [
    {
     "data": {
      "image/png": "[encoded data removed]",
      "text/plain": [
       "<Figure size 432x288 with 1 Axes>"
      ]
     },
     "metadata": {
      "needs_background": "light"
     },
     "output_type": "display_data"
    }
   ],
   "source": [
    "fig, ax = plt.subplots()\n",
    "sns.boxplot(data=data, orient='v')\n",
    "plt.show()"
   ]
  },
  {
   "cell_type": "markdown",
   "metadata": {},
   "source": [
    "### logistic regression\n",
    "```working with this algorithm for classification involves several steps but in this case i find out that ,although the problem is surely supervised but logistic is working great for data dependent in some way but in this problem data seems \n",
    "dependent but the way they work with algorithm is different that is for each feature the algorithm have to figure out the best feature to do separation (deciding classes observed) and the algorithm for this is decision tree from the formula entropy_gain = parent_entropy(pilog(pi)) - child_entropy(fraction.sum(pilog(pi)) and like wise for random forest hence both use the same principal``` "
   ]
  },
  {
   "cell_type": "code",
   "execution_count": 67,
   "metadata": {},
   "outputs": [],
   "source": [
    "#feature = ['gender', 'caste', 'mathematics_marks', 'english_marks', 'science_marks', 'science_teacher', 'languages_teacher', 'guardian', 'internet', 'total_students',\n",
    " #      'total_toilets']\n",
    "feature = ['mathematics_marks', 'english_marks', 'science_marks']\n",
    "X= data[feature] # input feature\n",
    "y= data.continue_drop # output label"
   ]
  },
  {
   "cell_type": "code",
   "execution_count": 68,
   "metadata": {},
   "outputs": [],
   "source": [
    "# Spilling of Data\n",
    "from sklearn.model_selection import train_test_split\n",
    "x_train, x_test, y_train, y_test = train_test_split(X, y,\n",
    "                                                    test_size=0.25,\n",
    "                                                    random_state=1234)"
   ]
  },
  {
   "cell_type": "code",
   "execution_count": 18,
   "metadata": {},
   "outputs": [
    {
     "data": {
      "text/plain": [
       "LogisticRegression(C=1.0, class_weight=None, dual=False, fit_intercept=True,\n",
       "          intercept_scaling=1, max_iter=100, multi_class='warn',\n",
       "          n_jobs=None, penalty='l2', random_state=None, solver='liblinear',\n",
       "          tol=0.0001, verbose=0, warm_start=False)"
      ]
     },
     "execution_count": 18,
     "metadata": {},
     "output_type": "execute_result"
    }
   ],
   "source": [
    "# logistic Regression model\n",
    "from sklearn.linear_model import LogisticRegression   # 1. choose model class\n",
    "model = LogisticRegression(solver='liblinear')                          # 2. instantiate model\n",
    "model.fit(x_train, y_train)   "
   ]
  },
  {
   "cell_type": "code",
   "execution_count": 36,
   "metadata": {},
   "outputs": [
    {
     "data": {
      "text/plain": [
       "array([[ 2.19845557e-01, -6.48721962e-02,  7.11969967e-01,\n",
       "        -2.11436949e+00,  7.11969967e-01, -2.26915568e-01,\n",
       "         2.29206417e-02,  5.82728682e-02, -9.27798019e-01,\n",
       "        -1.03462090e-04, -2.31206119e-03]])"
      ]
     },
     "execution_count": 36,
     "metadata": {},
     "output_type": "execute_result"
    }
   ],
   "source": [
    "model.coef_"
   ]
  },
  {
   "cell_type": "code",
   "execution_count": 37,
   "metadata": {},
   "outputs": [],
   "source": [
    "y_pred1 = model.predict(x_test) "
   ]
  },
  {
   "cell_type": "code",
   "execution_count": 38,
   "metadata": {},
   "outputs": [
    {
     "name": "stdout",
     "output_type": "stream",
     "text": [
      "Test Accuracy: 0.9752026704816403\n"
     ]
    }
   ],
   "source": [
    "#f1_score metric\n",
    "from sklearn.metrics import f1_score\n",
    "test_acc = f1_score(y_test, y_pred1)\n",
    "print(\"Test Accuracy: {}\".format(test_acc))"
   ]
  },
  {
   "cell_type": "code",
   "execution_count": 39,
   "metadata": {},
   "outputs": [
    {
     "data": {
      "text/plain": [
       "array([[   0,  208],\n",
       "       [   0, 4090]])"
      ]
     },
     "execution_count": 39,
     "metadata": {},
     "output_type": "execute_result"
    }
   ],
   "source": [
    "# Crossing checking predicted and actual data\n",
    "from sklearn.metrics import confusion_matrix\n",
    "value = confusion_matrix(y_test,y_pred1)\n",
    "value"
   ]
  },
  {
   "cell_type": "code",
   "execution_count": 40,
   "metadata": {},
   "outputs": [
    {
     "name": "stdout",
     "output_type": "stream",
     "text": [
      "recall is : 1.0 and precision : 0.9516053978594695\n"
     ]
    }
   ],
   "source": [
    "from sklearn.metrics import recall_score,precision_score\n",
    "print(\"recall is : {} and precision : {}\".format(recall_score(y_test,y_pred1),precision_score(y_test,y_pred1)))"
   ]
  },
  {
   "cell_type": "code",
   "execution_count": 23,
   "metadata": {},
   "outputs": [
    {
     "data": {
      "text/plain": [
       "1.6715290382519559"
      ]
     },
     "execution_count": 23,
     "metadata": {},
     "output_type": "execute_result"
    }
   ],
   "source": [
    "from sklearn.metrics import log_loss\n",
    "log_loss(y_test,y_pred1)"
   ]
  },
  {
   "cell_type": "code",
   "execution_count": 69,
   "metadata": {},
   "outputs": [],
   "source": [
    "from sklearn.tree import DecisionTreeClassifier\n",
    "clf = DecisionTreeClassifier(min_samples_split=50)\n"
   ]
  },
  {
   "cell_type": "code",
   "execution_count": 70,
   "metadata": {},
   "outputs": [
    {
     "data": {
      "text/plain": [
       "DecisionTreeClassifier(class_weight=None, criterion='gini', max_depth=None,\n",
       "            max_features=None, max_leaf_nodes=None,\n",
       "            min_impurity_decrease=0.0, min_impurity_split=None,\n",
       "            min_samples_leaf=1, min_samples_split=50,\n",
       "            min_weight_fraction_leaf=0.0, presort=False, random_state=None,\n",
       "            splitter='best')"
      ]
     },
     "execution_count": 70,
     "metadata": {},
     "output_type": "execute_result"
    }
   ],
   "source": [
    "clf.fit(x_train,y_train)"
   ]
  },
  {
   "cell_type": "code",
   "execution_count": 71,
   "metadata": {},
   "outputs": [],
   "source": [
    "pr = clf.predict(x_test)"
   ]
  },
  {
   "cell_type": "code",
   "execution_count": 72,
   "metadata": {},
   "outputs": [
    {
     "name": "stdout",
     "output_type": "stream",
     "text": [
      "Test Accuracy: 1.0\n"
     ]
    }
   ],
   "source": [
    "#f1_score metric\n",
    "from sklearn.metrics import f1_score\n",
    "test_acc = f1_score(y_test, pr)\n",
    "print(\"Test Accuracy: {}\".format(test_acc))"
   ]
  },
  {
   "cell_type": "code",
   "execution_count": 73,
   "metadata": {},
   "outputs": [
    {
     "data": {
      "text/plain": [
       "array([[ 208,    0],\n",
       "       [   0, 4090]])"
      ]
     },
     "execution_count": 73,
     "metadata": {},
     "output_type": "execute_result"
    }
   ],
   "source": [
    "# Crossing checking predicted and actual data\n",
    "from sklearn.metrics import confusion_matrix\n",
    "value = confusion_matrix(y_test,pr)\n",
    "value"
   ]
  },
  {
   "cell_type": "code",
   "execution_count": 74,
   "metadata": {},
   "outputs": [
    {
     "name": "stdout",
     "output_type": "stream",
     "text": [
      "recall is : 1.0 and precision : 1.0\n"
     ]
    }
   ],
   "source": [
    "from sklearn.metrics import recall_score,precision_score\n",
    "print(\"recall is : {} and precision : {}\".format(recall_score(y_test,pr),precision_score(y_test,pr)))"
   ]
  },
  {
   "cell_type": "code",
   "execution_count": null,
   "metadata": {},
   "outputs": [],
   "source": []
  },
  {
   "cell_type": "code",
   "execution_count": 78,
   "metadata": {},
   "outputs": [
    {
     "data": {
      "text/plain": [
       "[<matplotlib.lines.Line2D at 0x7f2db60966d8>]"
      ]
     },
     "execution_count": 78,
     "metadata": {},
     "output_type": "execute_result"
    },
    {
     "data": {
      "image/png": "[encoded data removed]",
      "text/plain": [
       "<Figure size 432x288 with 1 Axes>"
      ]
     },
     "metadata": {
      "needs_background": "light"
     },
     "output_type": "display_data"
    }
   ],
   "source": [
    "from sklearn.metrics import roc_curve,roc_auc_score\n",
    "fpr,tpr,thr = roc_curve(y_test, pr)\n",
    "auc = roc_auc_score(y_test, pr)\n",
    "plt.plot(fpr,tpr)"
   ]
  },
  {
   "cell_type": "markdown",
   "metadata": {},
   "source": [
    "```the most important features are mathematics_marks, english_marks, science_marks ```\n"
   ]
  },
  {
   "cell_type": "code",
   "execution_count": null,
   "metadata": {},
   "outputs": [],
   "source": []
  },
  {
   "cell_type": "code",
   "execution_count": 79,
   "metadata": {},
   "outputs": [
    {
     "data": {
      "text/html": [
       "<div>\n",
       "<style scoped>\n",
       "    .dataframe tbody tr th:only-of-type {\n",
       "        vertical-align: middle;\n",
       "    }\n",
       "\n",
       "    .dataframe tbody tr th {\n",
       "        vertical-align: top;\n",
       "    }\n",
       "\n",
       "    .dataframe thead th {\n",
       "        text-align: right;\n",
       "    }\n",
       "</style>\n",
       "<table border=\"1\" class=\"dataframe\">\n",
       "  <thead>\n",
       "    <tr style=\"text-align: right;\">\n",
       "      <th></th>\n",
       "      <th>student_id</th>\n",
       "      <th>gender</th>\n",
       "      <th>caste</th>\n",
       "      <th>mathematics_marks</th>\n",
       "      <th>english_marks</th>\n",
       "      <th>science_marks</th>\n",
       "      <th>science_teacher</th>\n",
       "      <th>languages_teacher</th>\n",
       "      <th>guardian</th>\n",
       "      <th>internet</th>\n",
       "      <th>school_id</th>\n",
       "      <th>total_students</th>\n",
       "      <th>total_toilets</th>\n",
       "      <th>establishment_year</th>\n",
       "    </tr>\n",
       "  </thead>\n",
       "  <tbody>\n",
       "    <tr>\n",
       "      <th>0</th>\n",
       "      <td>s00529</td>\n",
       "      <td>F</td>\n",
       "      <td>BC</td>\n",
       "      <td>0.212</td>\n",
       "      <td>0.601</td>\n",
       "      <td>0.212</td>\n",
       "      <td>1</td>\n",
       "      <td>4</td>\n",
       "      <td>mother</td>\n",
       "      <td>False</td>\n",
       "      <td>341</td>\n",
       "      <td>430</td>\n",
       "      <td>44.0</td>\n",
       "      <td>1959.0</td>\n",
       "    </tr>\n",
       "    <tr>\n",
       "      <th>1</th>\n",
       "      <td>s13519</td>\n",
       "      <td>F</td>\n",
       "      <td>BC</td>\n",
       "      <td>0.511</td>\n",
       "      <td>0.551</td>\n",
       "      <td>0.511</td>\n",
       "      <td>1</td>\n",
       "      <td>5</td>\n",
       "      <td>mother</td>\n",
       "      <td>True</td>\n",
       "      <td>329</td>\n",
       "      <td>275</td>\n",
       "      <td>60.0</td>\n",
       "      <td>1914.0</td>\n",
       "    </tr>\n",
       "    <tr>\n",
       "      <th>2</th>\n",
       "      <td>s01753</td>\n",
       "      <td>M</td>\n",
       "      <td>BC</td>\n",
       "      <td>0.890</td>\n",
       "      <td>0.644</td>\n",
       "      <td>0.890</td>\n",
       "      <td>2</td>\n",
       "      <td>2</td>\n",
       "      <td>mother</td>\n",
       "      <td>True</td>\n",
       "      <td>390</td>\n",
       "      <td>140</td>\n",
       "      <td>14.0</td>\n",
       "      <td>1972.0</td>\n",
       "    </tr>\n",
       "    <tr>\n",
       "      <th>3</th>\n",
       "      <td>s00034</td>\n",
       "      <td>F</td>\n",
       "      <td>BC</td>\n",
       "      <td>0.355</td>\n",
       "      <td>0.373</td>\n",
       "      <td>0.355</td>\n",
       "      <td>7</td>\n",
       "      <td>4</td>\n",
       "      <td>mother</td>\n",
       "      <td>True</td>\n",
       "      <td>336</td>\n",
       "      <td>206</td>\n",
       "      <td>17.0</td>\n",
       "      <td>1940.0</td>\n",
       "    </tr>\n",
       "    <tr>\n",
       "      <th>4</th>\n",
       "      <td>s03027</td>\n",
       "      <td>F</td>\n",
       "      <td>BC</td>\n",
       "      <td>0.691</td>\n",
       "      <td>0.147</td>\n",
       "      <td>0.691</td>\n",
       "      <td>4</td>\n",
       "      <td>3</td>\n",
       "      <td>father</td>\n",
       "      <td>True</td>\n",
       "      <td>361</td>\n",
       "      <td>287</td>\n",
       "      <td>15.0</td>\n",
       "      <td>1992.0</td>\n",
       "    </tr>\n",
       "  </tbody>\n",
       "</table>\n",
       "</div>"
      ],
      "text/plain": [
       "  student_id gender caste  mathematics_marks  english_marks  science_marks  \\\n",
       "0     s00529      F    BC              0.212          0.601          0.212   \n",
       "1     s13519      F    BC              0.511          0.551          0.511   \n",
       "2     s01753      M    BC              0.890          0.644          0.890   \n",
       "3     s00034      F    BC              0.355          0.373          0.355   \n",
       "4     s03027      F    BC              0.691          0.147          0.691   \n",
       "\n",
       "   science_teacher  languages_teacher guardian  internet  school_id  \\\n",
       "0                1                  4   mother     False        341   \n",
       "1                1                  5   mother      True        329   \n",
       "2                2                  2   mother      True        390   \n",
       "3                7                  4   mother      True        336   \n",
       "4                4                  3   father      True        361   \n",
       "\n",
       "   total_students  total_toilets  establishment_year  \n",
       "0             430           44.0              1959.0  \n",
       "1             275           60.0              1914.0  \n",
       "2             140           14.0              1972.0  \n",
       "3             206           17.0              1940.0  \n",
       "4             287           15.0              1992.0  "
      ]
     },
     "execution_count": 79,
     "metadata": {},
     "output_type": "execute_result"
    }
   ],
   "source": [
    "#Loading data training data.\n",
    "test_data = pd.read_csv('/home/aniseti/Documents/MachineLearningWorkflow/data/ML-week1-challenge-master/data/test_data_week_1_challenge.csv')\n",
    "test_data.head()\n"
   ]
  },
  {
   "cell_type": "code",
   "execution_count": 86,
   "metadata": {},
   "outputs": [
    {
     "data": {
      "text/plain": [
       "gender                0\n",
       "caste                 0\n",
       "mathematics_marks     0\n",
       "english_marks         0\n",
       "science_marks         0\n",
       "science_teacher       0\n",
       "languages_teacher     0\n",
       "guardian              0\n",
       "internet              0\n",
       "total_students        0\n",
       "total_toilets        26\n",
       "dtype: int64"
      ]
     },
     "execution_count": 86,
     "metadata": {},
     "output_type": "execute_result"
    }
   ],
   "source": [
    "np.sum(test_data.isnull())"
   ]
  },
  {
   "cell_type": "code",
   "execution_count": 87,
   "metadata": {},
   "outputs": [
    {
     "data": {
      "text/html": [
       "<div>\n",
       "<style scoped>\n",
       "    .dataframe tbody tr th:only-of-type {\n",
       "        vertical-align: middle;\n",
       "    }\n",
       "\n",
       "    .dataframe tbody tr th {\n",
       "        vertical-align: top;\n",
       "    }\n",
       "\n",
       "    .dataframe thead th {\n",
       "        text-align: right;\n",
       "    }\n",
       "</style>\n",
       "<table border=\"1\" class=\"dataframe\">\n",
       "  <thead>\n",
       "    <tr style=\"text-align: right;\">\n",
       "      <th></th>\n",
       "      <th>gender</th>\n",
       "      <th>caste</th>\n",
       "      <th>mathematics_marks</th>\n",
       "      <th>english_marks</th>\n",
       "      <th>science_marks</th>\n",
       "      <th>science_teacher</th>\n",
       "      <th>languages_teacher</th>\n",
       "      <th>guardian</th>\n",
       "      <th>internet</th>\n",
       "      <th>total_students</th>\n",
       "      <th>total_toilets</th>\n",
       "    </tr>\n",
       "  </thead>\n",
       "  <tbody>\n",
       "    <tr>\n",
       "      <th>0</th>\n",
       "      <td>F</td>\n",
       "      <td>BC</td>\n",
       "      <td>0.212</td>\n",
       "      <td>0.601</td>\n",
       "      <td>0.212</td>\n",
       "      <td>1</td>\n",
       "      <td>4</td>\n",
       "      <td>mother</td>\n",
       "      <td>False</td>\n",
       "      <td>430</td>\n",
       "      <td>44.0</td>\n",
       "    </tr>\n",
       "    <tr>\n",
       "      <th>1</th>\n",
       "      <td>F</td>\n",
       "      <td>BC</td>\n",
       "      <td>0.511</td>\n",
       "      <td>0.551</td>\n",
       "      <td>0.511</td>\n",
       "      <td>1</td>\n",
       "      <td>5</td>\n",
       "      <td>mother</td>\n",
       "      <td>True</td>\n",
       "      <td>275</td>\n",
       "      <td>60.0</td>\n",
       "    </tr>\n",
       "    <tr>\n",
       "      <th>2</th>\n",
       "      <td>M</td>\n",
       "      <td>BC</td>\n",
       "      <td>0.890</td>\n",
       "      <td>0.644</td>\n",
       "      <td>0.890</td>\n",
       "      <td>2</td>\n",
       "      <td>2</td>\n",
       "      <td>mother</td>\n",
       "      <td>True</td>\n",
       "      <td>140</td>\n",
       "      <td>14.0</td>\n",
       "    </tr>\n",
       "    <tr>\n",
       "      <th>3</th>\n",
       "      <td>F</td>\n",
       "      <td>BC</td>\n",
       "      <td>0.355</td>\n",
       "      <td>0.373</td>\n",
       "      <td>0.355</td>\n",
       "      <td>7</td>\n",
       "      <td>4</td>\n",
       "      <td>mother</td>\n",
       "      <td>True</td>\n",
       "      <td>206</td>\n",
       "      <td>17.0</td>\n",
       "    </tr>\n",
       "    <tr>\n",
       "      <th>4</th>\n",
       "      <td>F</td>\n",
       "      <td>BC</td>\n",
       "      <td>0.691</td>\n",
       "      <td>0.147</td>\n",
       "      <td>0.691</td>\n",
       "      <td>4</td>\n",
       "      <td>3</td>\n",
       "      <td>father</td>\n",
       "      <td>True</td>\n",
       "      <td>287</td>\n",
       "      <td>15.0</td>\n",
       "    </tr>\n",
       "  </tbody>\n",
       "</table>\n",
       "</div>"
      ],
      "text/plain": [
       "  gender caste  mathematics_marks  english_marks  science_marks  \\\n",
       "0      F    BC              0.212          0.601          0.212   \n",
       "1      F    BC              0.511          0.551          0.511   \n",
       "2      M    BC              0.890          0.644          0.890   \n",
       "3      F    BC              0.355          0.373          0.355   \n",
       "4      F    BC              0.691          0.147          0.691   \n",
       "\n",
       "   science_teacher  languages_teacher guardian  internet  total_students  \\\n",
       "0                1                  4   mother     False             430   \n",
       "1                1                  5   mother      True             275   \n",
       "2                2                  2   mother      True             140   \n",
       "3                7                  4   mother      True             206   \n",
       "4                4                  3   father      True             287   \n",
       "\n",
       "   total_toilets  \n",
       "0           44.0  \n",
       "1           60.0  \n",
       "2           14.0  \n",
       "3           17.0  \n",
       "4           15.0  "
      ]
     },
     "execution_count": 87,
     "metadata": {},
     "output_type": "execute_result"
    }
   ],
   "source": [
    "\n",
    "test_data.head()"
   ]
  },
  {
   "cell_type": "code",
   "execution_count": 89,
   "metadata": {},
   "outputs": [
    {
     "data": {
      "text/html": [
       "<div>\n",
       "<style scoped>\n",
       "    .dataframe tbody tr th:only-of-type {\n",
       "        vertical-align: middle;\n",
       "    }\n",
       "\n",
       "    .dataframe tbody tr th {\n",
       "        vertical-align: top;\n",
       "    }\n",
       "\n",
       "    .dataframe thead th {\n",
       "        text-align: right;\n",
       "    }\n",
       "</style>\n",
       "<table border=\"1\" class=\"dataframe\">\n",
       "  <thead>\n",
       "    <tr style=\"text-align: right;\">\n",
       "      <th></th>\n",
       "      <th>gender</th>\n",
       "      <th>caste</th>\n",
       "      <th>mathematics_marks</th>\n",
       "      <th>english_marks</th>\n",
       "      <th>science_marks</th>\n",
       "      <th>science_teacher</th>\n",
       "      <th>languages_teacher</th>\n",
       "      <th>guardian</th>\n",
       "      <th>internet</th>\n",
       "      <th>total_students</th>\n",
       "      <th>total_toilets</th>\n",
       "    </tr>\n",
       "  </thead>\n",
       "  <tbody>\n",
       "    <tr>\n",
       "      <th>0</th>\n",
       "      <td>0</td>\n",
       "      <td>0</td>\n",
       "      <td>0.212</td>\n",
       "      <td>0.601</td>\n",
       "      <td>0.212</td>\n",
       "      <td>1</td>\n",
       "      <td>4</td>\n",
       "      <td>0</td>\n",
       "      <td>1</td>\n",
       "      <td>430</td>\n",
       "      <td>44.0</td>\n",
       "    </tr>\n",
       "    <tr>\n",
       "      <th>1</th>\n",
       "      <td>0</td>\n",
       "      <td>0</td>\n",
       "      <td>0.511</td>\n",
       "      <td>0.551</td>\n",
       "      <td>0.511</td>\n",
       "      <td>1</td>\n",
       "      <td>5</td>\n",
       "      <td>0</td>\n",
       "      <td>0</td>\n",
       "      <td>275</td>\n",
       "      <td>60.0</td>\n",
       "    </tr>\n",
       "    <tr>\n",
       "      <th>2</th>\n",
       "      <td>1</td>\n",
       "      <td>0</td>\n",
       "      <td>0.890</td>\n",
       "      <td>0.644</td>\n",
       "      <td>0.890</td>\n",
       "      <td>2</td>\n",
       "      <td>2</td>\n",
       "      <td>0</td>\n",
       "      <td>0</td>\n",
       "      <td>140</td>\n",
       "      <td>14.0</td>\n",
       "    </tr>\n",
       "    <tr>\n",
       "      <th>3</th>\n",
       "      <td>0</td>\n",
       "      <td>0</td>\n",
       "      <td>0.355</td>\n",
       "      <td>0.373</td>\n",
       "      <td>0.355</td>\n",
       "      <td>7</td>\n",
       "      <td>4</td>\n",
       "      <td>0</td>\n",
       "      <td>1</td>\n",
       "      <td>206</td>\n",
       "      <td>17.0</td>\n",
       "    </tr>\n",
       "    <tr>\n",
       "      <th>4</th>\n",
       "      <td>0</td>\n",
       "      <td>0</td>\n",
       "      <td>0.691</td>\n",
       "      <td>0.147</td>\n",
       "      <td>0.691</td>\n",
       "      <td>4</td>\n",
       "      <td>3</td>\n",
       "      <td>1</td>\n",
       "      <td>1</td>\n",
       "      <td>287</td>\n",
       "      <td>15.0</td>\n",
       "    </tr>\n",
       "  </tbody>\n",
       "</table>\n",
       "</div>"
      ],
      "text/plain": [
       "   gender  caste  mathematics_marks  english_marks  science_marks  \\\n",
       "0       0      0              0.212          0.601          0.212   \n",
       "1       0      0              0.511          0.551          0.511   \n",
       "2       1      0              0.890          0.644          0.890   \n",
       "3       0      0              0.355          0.373          0.355   \n",
       "4       0      0              0.691          0.147          0.691   \n",
       "\n",
       "   science_teacher  languages_teacher  guardian  internet  total_students  \\\n",
       "0                1                  4         0         1             430   \n",
       "1                1                  5         0         0             275   \n",
       "2                2                  2         0         0             140   \n",
       "3                7                  4         0         1             206   \n",
       "4                4                  3         1         1             287   \n",
       "\n",
       "   total_toilets  \n",
       "0           44.0  \n",
       "1           60.0  \n",
       "2           14.0  \n",
       "3           17.0  \n",
       "4           15.0  "
      ]
     },
     "execution_count": 89,
     "metadata": {},
     "output_type": "execute_result"
    }
   ],
   "source": [
    "# encoding categorical values\n",
    "cleanup_nums = {\"continue_drop\":{\"continue\":1,\"drop\":0},\n",
    "                \"gender\":{\"F\":0,\"M\":1},\n",
    "                \"caste\":{\"BC\":0,\"SC\":1,\"OC\":2,\"ST\":3},\n",
    "                \"guardian\":{\"mother\":0,\"father\":1,\"other\":2,\"mixed\":3}\n",
    "               }\n",
    "\n",
    "test_data.replace(cleanup_nums, inplace=True)\n",
    "\n",
    "test_data.internet = data.internet.astype(int)\n",
    "test_data.head()"
   ]
  },
  {
   "cell_type": "code",
   "execution_count": 90,
   "metadata": {},
   "outputs": [],
   "source": [
    "test_feature = ['mathematics_marks', 'english_marks', 'science_marks']\n",
    "x = test_data[test_feature]"
   ]
  },
  {
   "cell_type": "code",
   "execution_count": 91,
   "metadata": {},
   "outputs": [
    {
     "data": {
      "text/plain": [
       "array([1, 1, 1, ..., 1, 1, 1])"
      ]
     },
     "execution_count": 91,
     "metadata": {},
     "output_type": "execute_result"
    }
   ],
   "source": [
    "classes = clf.predict(x)\n",
    "classes"
   ]
  },
  {
   "cell_type": "code",
   "execution_count": 53,
   "metadata": {},
   "outputs": [],
   "source": [
    "from sklearn.naive_bayes import GaussianNB\n",
    "clf = GaussianNB()\n"
   ]
  },
  {
   "cell_type": "code",
   "execution_count": 54,
   "metadata": {},
   "outputs": [
    {
     "data": {
      "text/plain": [
       "GaussianNB(priors=None, var_smoothing=1e-09)"
      ]
     },
     "execution_count": 54,
     "metadata": {},
     "output_type": "execute_result"
    }
   ],
   "source": [
    "clf.fit(x_train,y_train)"
   ]
  },
  {
   "cell_type": "code",
   "execution_count": 42,
   "metadata": {},
   "outputs": [],
   "source": [
    "pg = clf.predict(x_test)"
   ]
  },
  {
   "cell_type": "code",
   "execution_count": 43,
   "metadata": {},
   "outputs": [
    {
     "name": "stdout",
     "output_type": "stream",
     "text": [
      "Test Accuracy: 0.9754352492248987\n"
     ]
    }
   ],
   "source": [
    "#f1_score metric\n",
    "from sklearn.metrics import f1_score\n",
    "test_acc = f1_score(y_test, pg)\n",
    "print(\"Test Accuracy: {}\".format(test_acc))"
   ]
  },
  {
   "cell_type": "code",
   "execution_count": 44,
   "metadata": {},
   "outputs": [
    {
     "data": {
      "text/plain": [
       "array([[   2,  206],\n",
       "       [   0, 4090]])"
      ]
     },
     "execution_count": 44,
     "metadata": {},
     "output_type": "execute_result"
    }
   ],
   "source": [
    "from sklearn.metrics import confusion_matrix\n",
    "value = confusion_matrix(y_test,pg)\n",
    "value"
   ]
  },
  {
   "cell_type": "code",
   "execution_count": 45,
   "metadata": {},
   "outputs": [
    {
     "name": "stdout",
     "output_type": "stream",
     "text": [
      "recall is : 1.0 and precision : 0.952048417132216\n"
     ]
    }
   ],
   "source": [
    "from sklearn.metrics import recall_score,precision_score\n",
    "print(\"recall is : {} and precision : {}\".format(recall_score(y_test,pg),precision_score(y_test,pg)))"
   ]
  },
  {
   "cell_type": "code",
   "execution_count": 21,
   "metadata": {},
   "outputs": [
    {
     "data": {
      "text/plain": [
       "0.9516053978594695"
      ]
     },
     "execution_count": 21,
     "metadata": {},
     "output_type": "execute_result"
    }
   ],
   "source": [
    "from sklearn.metrics import accuracy_score\n",
    "accuracy_score(y_test, y_pred1)"
   ]
  },
  {
   "cell_type": "code",
   "execution_count": 23,
   "metadata": {},
   "outputs": [
    {
     "data": {
      "text/plain": [
       "0.9516053978594695"
      ]
     },
     "execution_count": 23,
     "metadata": {},
     "output_type": "execute_result"
    }
   ],
   "source": [
    "from sklearn.metrics import average_precision_score\n",
    "average_precision_score(y_test, y_pred1)"
   ]
  },
  {
   "cell_type": "code",
   "execution_count": 25,
   "metadata": {},
   "outputs": [],
   "source": [
    "from sklearn.metrics import precision_recall_curve\n",
    "pr,rc,a = precision_recall_curve(y_test, y_pred1)"
   ]
  },
  {
   "cell_type": "code",
   "execution_count": 29,
   "metadata": {},
   "outputs": [],
   "source": [
    "from sklearn.metrics import roc_curve,roc_auc_score\n",
    "fpr,tpr,thr = roc_curve(y_test, y_pred1)\n",
    "auc = roc_auc_score(y_test, y_pred1)"
   ]
  },
  {
   "cell_type": "code",
   "execution_count": 32,
   "metadata": {},
   "outputs": [
    {
     "data": {
      "text/plain": [
       "[<matplotlib.lines.Line2D at 0x7fa9e4e72da0>]"
      ]
     },
     "execution_count": 32,
     "metadata": {},
     "output_type": "execute_result"
    },
    {
     "data": {
      "image/png": "[encoded data removed]",
      "text/plain": [
       "<Figure size 432x288 with 1 Axes>"
      ]
     },
     "metadata": {
      "needs_background": "light"
     },
     "output_type": "display_data"
    }
   ],
   "source": [
    "plt.plot(fpr,tpr)"
   ]
  },
  {
   "cell_type": "code",
   "execution_count": 57,
   "metadata": {},
   "outputs": [],
   "source": [
    "from sklearn.svm import SVC"
   ]
  },
  {
   "cell_type": "code",
   "execution_count": 63,
   "metadata": {},
   "outputs": [],
   "source": [
    "clf = SVC(C=1000,gamma=100,kernel='linear')"
   ]
  },
  {
   "cell_type": "code",
   "execution_count": null,
   "metadata": {},
   "outputs": [],
   "source": [
    "#clf.fit(x_train,y_train)"
   ]
  },
  {
   "cell_type": "code",
   "execution_count": 60,
   "metadata": {},
   "outputs": [
    {
     "data": {
      "text/plain": [
       "array([[ 0.00000000e+00,  0.00000000e+00, -1.39493133e-05,\n",
       "        -1.09072064e-04, -1.39493133e-05]])"
      ]
     },
     "execution_count": 60,
     "metadata": {},
     "output_type": "execute_result"
    }
   ],
   "source": [
    "clf.coef_"
   ]
  },
  {
   "cell_type": "code",
   "execution_count": 61,
   "metadata": {},
   "outputs": [],
   "source": [
    "p = clf.predict(x_test)"
   ]
  },
  {
   "cell_type": "code",
   "execution_count": 62,
   "metadata": {},
   "outputs": [
    {
     "data": {
      "text/plain": [
       "array([[   0,  208],\n",
       "       [   0, 4090]])"
      ]
     },
     "execution_count": 62,
     "metadata": {},
     "output_type": "execute_result"
    }
   ],
   "source": [
    "# Crossing checking predicted and actual data\n",
    "from sklearn.metrics import confusion_matrix\n",
    "value = confusion_matrix(y_test,p)\n",
    "value"
   ]
  },
  {
   "cell_type": "code",
   "execution_count": 39,
   "metadata": {},
   "outputs": [],
   "source": [
    "x_new = data[['gender', 'caste', 'mathematics_marks', 'english_marks', 'science_marks']]"
   ]
  },
  {
   "cell_type": "code",
   "execution_count": 41,
   "metadata": {},
   "outputs": [],
   "source": [
    "x_train, x_test, y_train, y_test = train_test_split(x_new, y,\n",
    "                                                    test_size=0.25,\n",
    "                                                    random_state=1234)"
   ]
  },
  {
   "cell_type": "code",
   "execution_count": 42,
   "metadata": {},
   "outputs": [
    {
     "data": {
      "text/plain": [
       "LogisticRegression(C=1.0, class_weight=None, dual=False, fit_intercept=True,\n",
       "          intercept_scaling=1, max_iter=100, multi_class='warn',\n",
       "          n_jobs=None, penalty='l2', random_state=None, solver='liblinear',\n",
       "          tol=0.0001, verbose=0, warm_start=False)"
      ]
     },
     "execution_count": 42,
     "metadata": {},
     "output_type": "execute_result"
    }
   ],
   "source": [
    "# logistic Regression model\n",
    "from sklearn.linear_model import LogisticRegression   # 1. choose model class\n",
    "model = LogisticRegression(solver='liblinear')                          # 2. instantiate model\n",
    "model.fit(x_train, y_train)   "
   ]
  },
  {
   "cell_type": "code",
   "execution_count": 46,
   "metadata": {},
   "outputs": [],
   "source": [
    "y_pred = model.predict(x_test) "
   ]
  },
  {
   "cell_type": "code",
   "execution_count": 47,
   "metadata": {},
   "outputs": [
    {
     "name": "stdout",
     "output_type": "stream",
     "text": [
      "Test Accuracy: 0.9752026704816403\n"
     ]
    }
   ],
   "source": [
    "#f1_score metric\n",
    "from sklearn.metrics import f1_score\n",
    "test_acc = f1_score(y_test, y_pred)\n",
    "print(\"Test Accuracy: {}\".format(test_acc))"
   ]
  },
  {
   "cell_type": "code",
   "execution_count": 48,
   "metadata": {},
   "outputs": [
    {
     "data": {
      "text/plain": [
       "array([[   0,  208],\n",
       "       [   0, 4090]])"
      ]
     },
     "execution_count": 48,
     "metadata": {},
     "output_type": "execute_result"
    }
   ],
   "source": [
    "# Crossing checking predicted and actual data\n",
    "from sklearn.metrics import confusion_matrix\n",
    "value = confusion_matrix(y_test,y_pred)\n",
    "value"
   ]
  },
  {
   "cell_type": "markdown",
   "metadata": {},
   "source": [
    "# conclusion\n",
    "``` however now after trying a lot of algorithm the result is the problem seems to be solved by algorithms with which optimization\n",
    "does not depends on weight```"
   ]
  },
  {
   "cell_type": "markdown",
   "metadata": {},
   "source": [
    "### Model imbalance\n",
    "```A two-class data set is said to be imbalanced (or skewed) when one of the classes (theminority one) is heavily under-represented in comparison to the other class (the majority one). according to \"The class imbalance problem in pattern classification and learning\" by V. García\n",
    "J.S. Sánchez R.A. Mollineda\n",
    "R. Alejo J.M. Sotoca \n",
    "\n",
    "Technique to work with imbalanced data\n",
    "\n",
    "Resampling\n",
    "\n",
    "Resampling is the process of reconstructing the data sample from the actual data sets either by non-statistical estimation or statistical estimation.\n",
    "\n",
    "Undersampling\n",
    "\n",
    "\n",
    "\n",
    "Random undersampling is a method in which we randomly select the samples from the majority class and discard the remaining.\n",
    "\n",
    "Oversampling\n",
    "\n",
    "\n",
    "\n",
    "While undersampling aims to achieve an equal distribution by eliminating majority class samples, oversampling does this by replicating the minority samples so that the distribution is balanced.\n",
    "\n",
    "\n",
    "Conclusion\n",
    "\n",
    "Imbalanced data is one of the potential problems in the field of data mining and machine learning. This problem can be approached by properly analyzing the data. A few approaches that help us in tackling the problem at the data point level are undersampling, oversampling, and feature selection. Moving forward, there is still a lot of research required in handling the data imbalance problem more efficiently.\n",
    "```"
   ]
  },
  {
   "cell_type": "code",
   "execution_count": null,
   "metadata": {},
   "outputs": [],
   "source": []
  }
 ],
 "metadata": {
  "kernelspec": {
   "display_name": "Python 3",
   "language": "python",
   "name": "python3"
  },
  "language_info": {
   "codemirror_mode": {
    "name": "ipython",
    "version": 3
   },
   "file_extension": ".py",
   "mimetype": "text/x-python",
   "name": "python",
   "nbconvert_exporter": "python",
   "pygments_lexer": "ipython3",
   "version": "3.7.3"
  }
 },
 "nbformat": 4,
 "nbformat_minor": 2
}
